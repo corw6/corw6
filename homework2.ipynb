{
 "cells": [
  {
   "cell_type": "code",
   "execution_count": 8,
   "id": "b027d60c-0eb4-461c-838b-fa4587fc276c",
   "metadata": {},
   "outputs": [
    {
     "data": {
      "text/plain": [
       "[['physics', 98], ['calculus', 97], ['poetry', 85], ['history', 88]]"
      ]
     },
     "execution_count": 8,
     "metadata": {},
     "output_type": "execute_result"
    }
   ],
   "source": [
    "\n",
    "subjects = [\"physics\" , \"calculus\" , \"poetry\" , \"history\"] \n",
    "grades = [98 , 97,  85 , 88]\n",
    "gradebook = [[\"physics\", 98] , [\"calculus\" , 97] , [\"poetry\" , 85] , [\"history\" , 88]]\n",
    "gradebook"
   ]
  },
  {
   "cell_type": "code",
   "execution_count": 11,
   "id": "4d850b12-8283-457c-bf91-2ba31dbf3296",
   "metadata": {},
   "outputs": [],
   "source": [
    "gradebook.append([\"computer science\" , 100])\n",
    "gradebook.append([\"visual arts\" , 93])"
   ]
  },
  {
   "cell_type": "code",
   "execution_count": 12,
   "id": "44cc0145-ec83-4e1e-a131-2461856bae7f",
   "metadata": {},
   "outputs": [
    {
     "name": "stdout",
     "output_type": "stream",
     "text": [
      "[['physics', 98], ['calculus', 97], ['poetry', 85], ['history', 88], ['computer science', 100], ['visual arts', 93], ['computer science', 100], ['visual arts', 93]]\n"
     ]
    }
   ],
   "source": [
    "print(gradebook)"
   ]
  },
  {
   "cell_type": "code",
   "execution_count": 13,
   "id": "368c8ba5-65f9-4cf3-9a6b-bbeecc867b68",
   "metadata": {},
   "outputs": [
    {
     "name": "stdout",
     "output_type": "stream",
     "text": [
      "[['physics', 98], ['calculus', 97], ['poetry', 85], ['history', 88], ['computer science', 100], ['visual arts', 98], ['computer science', 100], ['visual arts', 93]]\n"
     ]
    }
   ],
   "source": [
    "gradebook[5][1] = 98\n",
    "print(gradebook)"
   ]
  },
  {
   "cell_type": "code",
   "execution_count": 14,
   "id": "de4b4d6e-192f-4a82-9561-a99db1950c8e",
   "metadata": {},
   "outputs": [
    {
     "name": "stdout",
     "output_type": "stream",
     "text": [
      "[['physics', 98], ['calculus', 97], ['poetry'], ['history', 88], ['computer science', 100], ['visual arts', 98], ['computer science', 100], ['visual arts', 93]]\n"
     ]
    }
   ],
   "source": [
    "gradebook[2].remove(85)\n",
    "print(gradebook)"
   ]
  },
  {
   "cell_type": "code",
   "execution_count": 15,
   "id": "8b2a78cb-fe80-4ddc-89a8-20c13f4f14b3",
   "metadata": {},
   "outputs": [
    {
     "name": "stdout",
     "output_type": "stream",
     "text": [
      "[['physics', 98], ['calculus', 97], ['poetry', 'pass'], ['history', 88], ['computer science', 100], ['visual arts', 98], ['computer science', 100], ['visual arts', 93]]\n"
     ]
    }
   ],
   "source": [
    "gradebook[2].append(\"pass\")\n",
    "print(gradebook)"
   ]
  },
  {
   "cell_type": "code",
   "execution_count": 16,
   "id": "7b50994d-ecd9-47b5-8181-da88773c1e02",
   "metadata": {},
   "outputs": [
    {
     "name": "stdout",
     "output_type": "stream",
     "text": [
      "[['politics', 80], ['latin', 96], ['dance', 97], ['architecture', 65], ['physics', 98], ['calculus', 97], ['poetry', 'pass'], ['history', 88], ['computer science', 100], ['visual arts', 98], ['computer science', 100], ['visual arts', 93]]\n"
     ]
    }
   ],
   "source": [
    "last_semester_gradebook = [[\"politics\", 80], [\"latin\", 96], [\"dance\", 97], [\"architecture\", 65]]\n",
    "\n",
    "full_gradebook = last_semester_gradebook + gradebook\n",
    "print(full_gradebook)"
   ]
  },
  {
   "cell_type": "code",
   "execution_count": null,
   "id": "242c902c-5174-4f77-b524-27d314352cce",
   "metadata": {},
   "outputs": [],
   "source": []
  }
 ],
 "metadata": {
  "kernelspec": {
   "display_name": "Python 3 (ipykernel)",
   "language": "python",
   "name": "python3"
  },
  "language_info": {
   "codemirror_mode": {
    "name": "ipython",
    "version": 3
   },
   "file_extension": ".py",
   "mimetype": "text/x-python",
   "name": "python",
   "nbconvert_exporter": "python",
   "pygments_lexer": "ipython3",
   "version": "3.9.12"
  }
 },
 "nbformat": 4,
 "nbformat_minor": 5
}
