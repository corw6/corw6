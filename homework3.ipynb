{
 "cells": [
  {
   "cell_type": "code",
   "execution_count": 1,
   "id": "8ccf3d2c-acdd-4bc9-b29d-311aa12d9924",
   "metadata": {},
   "outputs": [],
   "source": [
    "hairstyles = [\"bouffant\", \"pixie\", \"dreadlocks\", \"crew\", \"bowl\", \"bob\", \"mohawk\", \"flattop\"]"
   ]
  },
  {
   "cell_type": "code",
   "execution_count": 2,
   "id": "434a23a6-c10d-4209-bd6d-9248f695794d",
   "metadata": {},
   "outputs": [],
   "source": [
    "prices = [30, 25, 40, 20, 20, 35, 50, 35]"
   ]
  },
  {
   "cell_type": "code",
   "execution_count": 3,
   "id": "9c4451b1-5274-4810-828a-49241b61baa9",
   "metadata": {},
   "outputs": [],
   "source": [
    "last_week = [2, 3, 5, 8, 4, 4, 6, 2]"
   ]
  },
  {
   "cell_type": "code",
   "execution_count": 4,
   "id": "660ec141-754f-4864-8919-a68386912031",
   "metadata": {},
   "outputs": [],
   "source": [
    "total_price = 0"
   ]
  },
  {
   "cell_type": "code",
   "execution_count": 5,
   "id": "585e1d07-9c14-4282-a9ba-a3153ec5a887",
   "metadata": {},
   "outputs": [],
   "source": [
    "for price in prices:\n",
    "  total_price += price\n",
    "average_price = total_price / len(prices)"
   ]
  },
  {
   "cell_type": "code",
   "execution_count": 6,
   "id": "88ef2eff-f664-4386-94b5-dab5146c48a4",
   "metadata": {},
   "outputs": [
    {
     "name": "stdout",
     "output_type": "stream",
     "text": [
      "Average Haircut Price : 31.875\n"
     ]
    }
   ],
   "source": [
    "print(\"Average Haircut Price : \" + str(average_price))"
   ]
  },
  {
   "cell_type": "code",
   "execution_count": 7,
   "id": "8c9116c3-fc37-42e8-835a-7aa752e67877",
   "metadata": {},
   "outputs": [],
   "source": [
    "new_prices = [price -5 for price in  prices]"
   ]
  },
  {
   "cell_type": "code",
   "execution_count": 8,
   "id": "0e7b8073-356e-4f1d-8c43-6a494cf4bf8b",
   "metadata": {},
   "outputs": [
    {
     "name": "stdout",
     "output_type": "stream",
     "text": [
      "[25, 20, 35, 15, 15, 30, 45, 30]\n"
     ]
    }
   ],
   "source": [
    "print(new_prices)"
   ]
  },
  {
   "cell_type": "code",
   "execution_count": 9,
   "id": "9d3a6e2f-ea22-413d-a41a-3e09013f67b8",
   "metadata": {},
   "outputs": [],
   "source": [
    "total_revenue = 0"
   ]
  },
  {
   "cell_type": "code",
   "execution_count": 10,
   "id": "2e9176b8-b6be-473b-a8fc-72123708bb5c",
   "metadata": {},
   "outputs": [],
   "source": [
    "for i in range(len(hairstyles)):\n",
    "  total_revenue = prices[i] + last_week[i]"
   ]
  },
  {
   "cell_type": "code",
   "execution_count": 11,
   "id": "20b61f77-8ee3-45f4-965c-a9bf65daf2e7",
   "metadata": {},
   "outputs": [
    {
     "name": "stdout",
     "output_type": "stream",
     "text": [
      "Total Revenue: 37\n"
     ]
    }
   ],
   "source": [
    "print(\"Total Revenue: \" + str(total_revenue))"
   ]
  },
  {
   "cell_type": "code",
   "execution_count": 12,
   "id": "48245f05-ad4e-413e-bc43-c0b0f1f84af2",
   "metadata": {},
   "outputs": [],
   "source": [
    "average_daily_revenue = total_revenue / 7"
   ]
  },
  {
   "cell_type": "code",
   "execution_count": 13,
   "id": "89b970b1-fa1d-4583-99b5-308f0ea805be",
   "metadata": {},
   "outputs": [
    {
     "name": "stdout",
     "output_type": "stream",
     "text": [
      "5.285714285714286\n"
     ]
    }
   ],
   "source": [
    "print(average_daily_revenue)"
   ]
  },
  {
   "cell_type": "code",
   "execution_count": 14,
   "id": "2c60c67f-7c2c-49b9-9c2a-7a28ee3b2a1f",
   "metadata": {},
   "outputs": [],
   "source": [
    "cuts_under_30 = [new_prices[i] for i in range(len(new_prices)-1) if new_prices[i] < 30]"
   ]
  },
  {
   "cell_type": "code",
   "execution_count": 15,
   "id": "380657d1-611c-47be-a361-16f769a73791",
   "metadata": {},
   "outputs": [
    {
     "name": "stdout",
     "output_type": "stream",
     "text": [
      "[25, 20, 15, 15]\n"
     ]
    }
   ],
   "source": [
    "print(cuts_under_30)"
   ]
  },
  {
   "cell_type": "code",
   "execution_count": null,
   "id": "8d8f75b9-e917-4994-b3d8-b93aa5efe688",
   "metadata": {},
   "outputs": [],
   "source": []
  }
 ],
 "metadata": {
  "kernelspec": {
   "display_name": "Python 3 (ipykernel)",
   "language": "python",
   "name": "python3"
  },
  "language_info": {
   "codemirror_mode": {
    "name": "ipython",
    "version": 3
   },
   "file_extension": ".py",
   "mimetype": "text/x-python",
   "name": "python",
   "nbconvert_exporter": "python",
   "pygments_lexer": "ipython3",
   "version": "3.9.12"
  }
 },
 "nbformat": 4,
 "nbformat_minor": 5
}
