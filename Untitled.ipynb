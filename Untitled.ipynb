{
 "cells": [
  {
   "cell_type": "code",
   "execution_count": 1,
   "id": "b87e109c-5932-48ac-9003-0b6d0eb0aef5",
   "metadata": {},
   "outputs": [],
   "source": [
    "lovely_loveseat_description=\"Lovely Loveseat. Tufted polyester blend on wood. 32 inches high x 40 inches wide x 30 inches deep. Red or white.\""
   ]
  },
  {
   "cell_type": "code",
   "execution_count": 2,
   "id": "cf4b49bd-227e-48c0-8102-02686cfacde6",
   "metadata": {},
   "outputs": [],
   "source": [
    "lovely_loveseat_price=254.00"
   ]
  },
  {
   "cell_type": "code",
   "execution_count": 3,
   "id": "4b9d881d-7291-49dc-8390-0e51e4be6037",
   "metadata": {},
   "outputs": [],
   "source": [
    "stylish_settee_description=\"Stylish Settee. Faux leather on birch. 29.50 inches high x 54.75 inches wide x 28 inches deep. Black.\""
   ]
  },
  {
   "cell_type": "code",
   "execution_count": 4,
   "id": "9038cf55-c8f2-4001-85b4-b4f0022aa5c0",
   "metadata": {},
   "outputs": [],
   "source": [
    "stylish_settee_price=180.50"
   ]
  },
  {
   "cell_type": "code",
   "execution_count": 5,
   "id": "1db9fd89-cc22-42fb-a6c2-8da627828a5d",
   "metadata": {},
   "outputs": [],
   "source": [
    "luxurious_lamp_description=\"Luxurious Lamp. Glass and iron. 36 inches tall. Brown with cream shade.\""
   ]
  },
  {
   "cell_type": "code",
   "execution_count": 6,
   "id": "966e849f-e622-4654-a148-13c4e49adac2",
   "metadata": {},
   "outputs": [],
   "source": [
    "luxurious_lamp_price=52.15"
   ]
  },
  {
   "cell_type": "code",
   "execution_count": 7,
   "id": "8c2a5cca-b187-49e2-bf35-515a6e0508b7",
   "metadata": {},
   "outputs": [],
   "source": [
    "sales_tax=0.088"
   ]
  },
  {
   "cell_type": "code",
   "execution_count": 8,
   "id": "1183d0f4-5a7c-4f0b-be74-3c6d82e88513",
   "metadata": {},
   "outputs": [],
   "source": [
    "customer_one_total=0"
   ]
  },
  {
   "cell_type": "code",
   "execution_count": 9,
   "id": "ad62d798-f332-404a-80fe-fc55f9a241d3",
   "metadata": {},
   "outputs": [],
   "source": [
    "customer_one_itemization=[]"
   ]
  },
  {
   "cell_type": "code",
   "execution_count": 10,
   "id": "88b557e6-9dc4-4115-b871-6e138db7e7ac",
   "metadata": {},
   "outputs": [
    {
     "name": "stdout",
     "output_type": "stream",
     "text": [
      "254.0\n"
     ]
    }
   ],
   "source": [
    "customer_one_total=0\n",
    "customer_one_total=customer_one_total+lovely_loveseat_price\n",
    "print(customer_one_total)"
   ]
  },
  {
   "cell_type": "code",
   "execution_count": 11,
   "id": "54309144-748b-4171-887f-8c2c9844edac",
   "metadata": {},
   "outputs": [
    {
     "name": "stdout",
     "output_type": "stream",
     "text": [
      "['Lovely Loveseat. Tufted polyester blend on wood. 32 inches high x 40 inches wide x 30 inches deep. Red or white.']\n"
     ]
    }
   ],
   "source": [
    "customer_one_itemization=[]\n",
    "customer_one_itemization.append(lovely_loveseat_description)\n",
    "print(customer_one_itemization)"
   ]
  },
  {
   "cell_type": "code",
   "execution_count": 12,
   "id": "ca442352-21c0-4b14-8f3c-3f52cb4db207",
   "metadata": {},
   "outputs": [
    {
     "name": "stdout",
     "output_type": "stream",
     "text": [
      "306.15\n"
     ]
    }
   ],
   "source": [
    "customer_one_total=customer_one_total+luxurious_lamp_price\n",
    "print(customer_one_total)"
   ]
  },
  {
   "cell_type": "code",
   "execution_count": 13,
   "id": "b7838e68-dd78-4263-8a73-06f15e89a64a",
   "metadata": {},
   "outputs": [],
   "source": [
    "customer_one_itemization.append(luxurious_lamp_description)"
   ]
  },
  {
   "cell_type": "code",
   "execution_count": 14,
   "id": "0d67c232-b9e3-47a9-aa53-4a58fa26d9b0",
   "metadata": {},
   "outputs": [],
   "source": [
    "customer_one_tax=customer_one_total*sales_tax"
   ]
  },
  {
   "cell_type": "code",
   "execution_count": 15,
   "id": "e8a671a2-1a6e-4733-a726-24228ed6a535",
   "metadata": {},
   "outputs": [],
   "source": [
    "customer_one_total=customer_one_total+customer_one_tax"
   ]
  },
  {
   "cell_type": "code",
   "execution_count": 16,
   "id": "1c95c134-3af8-461b-88bd-6bcf005d295e",
   "metadata": {},
   "outputs": [
    {
     "name": "stdout",
     "output_type": "stream",
     "text": [
      "Customer One Items:\n"
     ]
    }
   ],
   "source": [
    "print(\"Customer One Items:\")"
   ]
  },
  {
   "cell_type": "code",
   "execution_count": 17,
   "id": "c0fb3a43-dc52-4587-ab24-6fa16e201103",
   "metadata": {},
   "outputs": [
    {
     "name": "stdout",
     "output_type": "stream",
     "text": [
      "['Lovely Loveseat. Tufted polyester blend on wood. 32 inches high x 40 inches wide x 30 inches deep. Red or white.', 'Luxurious Lamp. Glass and iron. 36 inches tall. Brown with cream shade.']\n"
     ]
    }
   ],
   "source": [
    "print(customer_one_itemization)"
   ]
  },
  {
   "cell_type": "code",
   "execution_count": 18,
   "id": "5d919a8a-574a-4e62-b58d-e3b766faeda4",
   "metadata": {},
   "outputs": [
    {
     "name": "stdout",
     "output_type": "stream",
     "text": [
      "Customer One Totals:\n"
     ]
    }
   ],
   "source": [
    "print(\"Customer One Totals:\")"
   ]
  },
  {
   "cell_type": "code",
   "execution_count": 19,
   "id": "f6c4b2d3-90ab-4262-9829-4b0f59c37f14",
   "metadata": {},
   "outputs": [
    {
     "name": "stdout",
     "output_type": "stream",
     "text": [
      "333.09119999999996\n"
     ]
    }
   ],
   "source": [
    "print(customer_one_total)"
   ]
  },
  {
   "cell_type": "code",
   "execution_count": null,
   "id": "07ae493d-95c1-4096-a027-3b62824f8fec",
   "metadata": {},
   "outputs": [],
   "source": []
  }
 ],
 "metadata": {
  "kernelspec": {
   "display_name": "Python 3 (ipykernel)",
   "language": "python",
   "name": "python3"
  },
  "language_info": {
   "codemirror_mode": {
    "name": "ipython",
    "version": 3
   },
   "file_extension": ".py",
   "mimetype": "text/x-python",
   "name": "python",
   "nbconvert_exporter": "python",
   "pygments_lexer": "ipython3",
   "version": "3.9.12"
  }
 },
 "nbformat": 4,
 "nbformat_minor": 5
}
