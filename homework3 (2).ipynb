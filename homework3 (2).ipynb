{
 "cells": [
  {
   "cell_type": "code",
   "execution_count": 2,
   "id": "0e736b87-3bf0-40ec-b950-4fbcceced4c6",
   "metadata": {},
   "outputs": [],
   "source": [
    "import numpy as np"
   ]
  },
  {
   "cell_type": "code",
   "execution_count": 3,
   "id": "4bfe65d4-0e3d-44c9-8166-05bda2d3b157",
   "metadata": {},
   "outputs": [],
   "source": [
    "hairstyles = [\"bouffant\", \"pixie\", \"dreadlocks\", \"crew\", \"bowl\", \"bob\", \"mohawk\", \"flattop\"]"
   ]
  },
  {
   "cell_type": "code",
   "execution_count": 4,
   "id": "434a23a6-c10d-4209-bd6d-9248f695794d",
   "metadata": {},
   "outputs": [],
   "source": [
    "prices = [30, 25, 40, 20, 20, 35, 50, 35]"
   ]
  },
  {
   "cell_type": "code",
   "execution_count": 5,
   "id": "9c4451b1-5274-4810-828a-49241b61baa9",
   "metadata": {},
   "outputs": [],
   "source": [
    "last_week = [2, 3, 5, 8, 4, 4, 6, 2]"
   ]
  },
  {
   "cell_type": "code",
   "execution_count": 6,
   "id": "660ec141-754f-4864-8919-a68386912031",
   "metadata": {},
   "outputs": [],
   "source": [
    "total_price = 0"
   ]
  },
  {
   "cell_type": "code",
   "execution_count": 7,
   "id": "cec1ace2-498b-481a-b6a3-c0e110548c6f",
   "metadata": {},
   "outputs": [],
   "source": [
    "total_price = sum(prices)"
   ]
  },
  {
   "cell_type": "code",
   "execution_count": 8,
   "id": "6ee75cf7-0ad0-42f9-a823-7ae90becf993",
   "metadata": {
    "jupyter": {
     "source_hidden": true
    },
    "tags": []
   },
   "outputs": [
    {
     "name": "stdout",
     "output_type": "stream",
     "text": [
      "255\n"
     ]
    }
   ],
   "source": [
    "print(total_price)"
   ]
  },
  {
   "cell_type": "code",
   "execution_count": 12,
   "id": "585e1d07-9c14-4282-a9ba-a3153ec5a887",
   "metadata": {},
   "outputs": [],
   "source": [
    "average_price = 0"
   ]
  },
  {
   "cell_type": "code",
   "execution_count": 13,
   "id": "9ad3f696-ef3a-4d0c-80b1-1487901a452b",
   "metadata": {},
   "outputs": [],
   "source": [
    "average_price = total_price/len(prices)"
   ]
  },
  {
   "cell_type": "code",
   "execution_count": 14,
   "id": "a329f541-626f-4d7d-b7dc-e5fb00477a02",
   "metadata": {},
   "outputs": [
    {
     "name": "stdout",
     "output_type": "stream",
     "text": [
      "average_price is 31.875\n"
     ]
    }
   ],
   "source": [
    "print('average_price is',average_price)"
   ]
  },
  {
   "cell_type": "code",
   "execution_count": 15,
   "id": "8c9116c3-fc37-42e8-835a-7aa752e67877",
   "metadata": {},
   "outputs": [],
   "source": [
    "new_price = prices"
   ]
  },
  {
   "cell_type": "code",
   "execution_count": 16,
   "id": "40ceab9e-93ec-4aaa-932c-dfdbef5fbd2e",
   "metadata": {},
   "outputs": [],
   "source": [
    "new_price = [prices-5 for prices in new_price]"
   ]
  },
  {
   "cell_type": "code",
   "execution_count": 17,
   "id": "f7e4651c-2e06-40a5-bd44-0f750151779e",
   "metadata": {},
   "outputs": [
    {
     "name": "stdout",
     "output_type": "stream",
     "text": [
      "[25, 20, 35, 15, 15, 30, 45, 30]\n"
     ]
    }
   ],
   "source": [
    "print(new_price)"
   ]
  },
  {
   "cell_type": "code",
   "execution_count": 18,
   "id": "9d3a6e2f-ea22-413d-a41a-3e09013f67b8",
   "metadata": {},
   "outputs": [],
   "source": [
    "total_revenue = 0"
   ]
  },
  {
   "cell_type": "code",
   "execution_count": 19,
   "id": "2e9176b8-b6be-473b-a8fc-72123708bb5c",
   "metadata": {},
   "outputs": [],
   "source": [
    "total_revenue = [prices[i]*last_week[i]for i in range(len(hairstyles))]"
   ]
  },
  {
   "cell_type": "code",
   "execution_count": 20,
   "id": "20b61f77-8ee3-45f4-965c-a9bf65daf2e7",
   "metadata": {},
   "outputs": [
    {
     "name": "stdout",
     "output_type": "stream",
     "text": [
      "[60, 75, 200, 160, 80, 140, 300, 70]\n"
     ]
    }
   ],
   "source": [
    "print(total_revenue)"
   ]
  },
  {
   "cell_type": "code",
   "execution_count": 21,
   "id": "74a9c68e-b6c6-4ef3-a9b4-feea2e325023",
   "metadata": {},
   "outputs": [],
   "source": [
    "result = sum(total_revenue)"
   ]
  },
  {
   "cell_type": "code",
   "execution_count": 22,
   "id": "752fb218-f352-4be8-9a71-3009a21c77df",
   "metadata": {},
   "outputs": [
    {
     "name": "stdout",
     "output_type": "stream",
     "text": [
      "1085\n"
     ]
    }
   ],
   "source": [
    "print(result)"
   ]
  },
  {
   "cell_type": "code",
   "execution_count": 23,
   "id": "32827b78-96f9-4129-8a1e-3a946d315155",
   "metadata": {},
   "outputs": [],
   "source": [
    "total_revenue = result"
   ]
  },
  {
   "cell_type": "code",
   "execution_count": 24,
   "id": "48245f05-ad4e-413e-bc43-c0b0f1f84af2",
   "metadata": {},
   "outputs": [],
   "source": [
    "average_daily_revenue = total_revenue / 7"
   ]
  },
  {
   "cell_type": "code",
   "execution_count": 25,
   "id": "89b970b1-fa1d-4583-99b5-308f0ea805be",
   "metadata": {},
   "outputs": [
    {
     "name": "stdout",
     "output_type": "stream",
     "text": [
      "Average daily revenue is 155.0\n"
     ]
    }
   ],
   "source": [
    "print('Average daily revenue is',average_daily_revenue)"
   ]
  },
  {
   "cell_type": "code",
   "execution_count": 26,
   "id": "2c60c67f-7c2c-49b9-9c2a-7a28ee3b2a1f",
   "metadata": {},
   "outputs": [],
   "source": [
    "cuts_under_30 = [hairstyles[i] for i in range(len(new_price)-1) if new_price[i] < 30]"
   ]
  },
  {
   "cell_type": "code",
   "execution_count": 27,
   "id": "380657d1-611c-47be-a361-16f769a73791",
   "metadata": {},
   "outputs": [
    {
     "name": "stdout",
     "output_type": "stream",
     "text": [
      "['bouffant', 'pixie', 'crew', 'bowl']\n"
     ]
    }
   ],
   "source": [
    "print(cuts_under_30)"
   ]
  },
  {
   "cell_type": "code",
   "execution_count": null,
   "id": "8d8f75b9-e917-4994-b3d8-b93aa5efe688",
   "metadata": {},
   "outputs": [],
   "source": []
  }
 ],
 "metadata": {
  "kernelspec": {
   "display_name": "Python 3 (ipykernel)",
   "language": "python",
   "name": "python3"
  },
  "language_info": {
   "codemirror_mode": {
    "name": "ipython",
    "version": 3
   },
   "file_extension": ".py",
   "mimetype": "text/x-python",
   "name": "python",
   "nbconvert_exporter": "python",
   "pygments_lexer": "ipython3",
   "version": "3.9.12"
  }
 },
 "nbformat": 4,
 "nbformat_minor": 5
}
